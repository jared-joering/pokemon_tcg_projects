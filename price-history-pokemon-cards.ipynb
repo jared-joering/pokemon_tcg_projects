{
 "cells": [
  {
   "cell_type": "markdown",
   "metadata": {},
   "source": [
    "![The Pokémon Logo](pokemon-logo.png)\n",
    "\n",
    "# **When Best to Buy to Collect 'em All**\n",
    "When I was a kid, [Pokémon](https://en.wikipedia.org/wiki/Pok%C3%A9mon) was all the rage.  At 9, I was regularly watching a VHS tape (dating myself, I know) that simply *talked* about the idea of catching them all.  I was hooked.  Like every fan's relationship with their hobby or interest, I had my ups and downs with the franchise and its various media, yet my adoration persisted.  There was one line of products that really caught my attention as a child.  It was the [Trading Card Game](https://en.wikipedia.org/wiki/Pok%C3%A9mon_Trading_Card_Game) (TCG, for short), and came shortly after the [television series](https://en.wikipedia.org/wiki/Pok%C3%A9mon_(TV_series)) and [games](https://en.wikipedia.org/wiki/List_of_Pok%C3%A9mon_video_games) and was just as big of a smash hit as the aforementioned two.  I jumped on the card game, doing everything from collect to 'battle' with them.  I collected in a large spurt (my mother's pocketbook suffered greatly) and was generally a giant pest.  I was spoiled, but unfortunately for me and fortunately for her, my love was short-lived.  Sadly, however, it was not because I just stopped, but it was more mental.\n",
    "\n",
    "Throughout my life I've been battling depression.  In college, I was formally diagnosed with dysthymia which is just fancy doctor-speak for persistent, long-term depression.  In my teens and twenties it was at its worst, I all but fell out of love with the card game and a lot of things in life.  It was only in my thirties that I realized hobbies are an important part of one's life and sense of self.  So, during the pandemic, I jumped into my closet and found the old cards I'd collected.  Unfortunately, I didn't take good care of my cards.  I remain undeterred though.  I'm 34 now, and my desire has never been higher.\n",
    "\n",
    "So, I'm on a quest to fulfill what my childhood self wanted.  This notebook and project are with that in mind, to find deals, and figure out through pricing history and trends how best I can approach what almost every Pokémon aficionado strives so hard to do: to collect 'em all."
   ]
  },
  {
   "cell_type": "markdown",
   "metadata": {},
   "source": [
    "#### **Goal(s) for this project**\n",
    "- analyzing trends and the overall history of sealed product and singles (individual cards) to find the best time to purchase them\n",
    "- people are different and like different types of Pokémon.  i want to analyze if those different people have different purchasing habits.\n",
    "- for longer term cards, i.e. 'vintage', i'll look through the various sets release and see if they forever mature or their price dips as well\n",
    "- finally, just to see if it works, there's a new set coming out in March or April -- i'll figure out when to buy them and have at it\n"
   ]
  },
  {
   "cell_type": "markdown",
   "metadata": {},
   "source": [
    "#### **Expectations and Methodology** <img src=\"pikachu-magnifying-glass.png\" width=\"325.33333333333333333333333333333\" height=\"341.33333333333333333333333333333\" align=\"right\"/>\n",
    "Insofar as my expectations are concerned, I think this particular project is going to be difficult.  I'm doing a bunch of different things than my prior cases in Jupyter Notebook and this is a lot more invovled, mechanically, than most of my old stuff.\n",
    "\n",
    "First things first: this project wouldn't be possible without an API or a webscraper.  After a pretty laborious search through the muck of Kaggle, Google, and premium APIs, I found a [single RESTful API](https://pokemontcg.io/), which is the easier architecture of the two available (the other being SOAP) to make use of.  At this moment, I'm going to mess with the API and see if it returns what I want.  What I expect from this, insofar as the 'spine' of this project is concerned, is threefold:\n",
    "\n",
    "1. I want to take 'snapshots' of certain windows when it comes to pricing items.  For all of them, it'll be on the intervals of 1, 2, 3, 6, 8, and 12 months.  Then, provided the item has been out long enough, I'll also be looking at a 1, 1 and a half, 2, and 3 years.\n",
    "2. There are, ultimately, favorite Pokémon in the fandom.  People like Pikachu more than Spearow, or Charizard more than Feraligatr.  So, I want to see if pricing trends differ based on popularity.\n",
    "3. Similarly, I will also look at the union of who buys singles and who buys sets and the relation of which.\n",
    "\n",
    "I will then make conclusions based off of what I've learned."
   ]
  },
  {
   "cell_type": "markdown",
   "metadata": {},
   "source": [
    "##### *Unachieved goals*:\n",
    "* I want to get another financial RESTful API, probably eBay?\n",
    "* Document and rehearse what I'm doing so to better understand.\n",
    "* Provide, bare minimum, 6 graphs and tables, 2 of which are made in Tableau."
   ]
  },
  {
   "cell_type": "markdown",
   "metadata": {},
   "source": []
  }
 ],
 "metadata": {
  "kernelspec": {
   "display_name": "Python 3",
   "language": "python",
   "name": "python3"
  },
  "language_info": {
   "codemirror_mode": {
    "name": "ipython",
    "version": 3
   },
   "file_extension": ".py",
   "mimetype": "text/x-python",
   "name": "python",
   "nbconvert_exporter": "python",
   "pygments_lexer": "ipython3",
   "version": "3.13.0"
  }
 },
 "nbformat": 4,
 "nbformat_minor": 2
}
